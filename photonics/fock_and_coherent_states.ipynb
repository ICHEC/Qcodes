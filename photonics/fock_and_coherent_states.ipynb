{
 "cells": [
  {
   "cell_type": "markdown",
   "metadata": {},
   "source": [
    "# Fock and coherent states\n",
    "- Notes from \"Introductionary Quantum Optics\" - Gerry & Knight"
   ]
  },
  {
   "cell_type": "markdown",
   "metadata": {},
   "source": [
    "## Fock States\n",
    "The Hamiltonian for the quantum harmonic osciallator is\n",
    "$$ H = \\hbar\\omega (a^\\dagger a + 1/2) $$\n",
    "It's eigenstates are Fock states, $|n\\rangle$, where the state $|n\\rangle$ can be thought of as containing $n$ photons. We have\n",
    "$$\n",
    "\\begin{split}\n",
    "a|n\\rangle &= \\sqrt{n}|n-1\\rangle \\\\\n",
    "a^\\dagger|n\\rangle &= \\sqrt{n+1}|n+1\\rangle  \\\\\n",
    "\\end{split}\n",
    "$$\n",
    "where $a$ is the annihilation operator and $a^\\dagger$ is the creation operator. Note that $a^\\dagger a$ is Hermitian with\n",
    "$$ a^\\dagger a|n\\rangle = \\sqrt{n} a^\\dagger|n-1\\rangle = n|n\\rangle$$\n",
    "and hence the eigenenergy of the state $|n\\rangle$ is $\\hbar\\omega (n + 1/2)$.\n",
    "Finally we note\n",
    "$$ [a, a^\\dagger] = 1.$$"
   ]
  },
  {
   "cell_type": "markdown",
   "metadata": {},
   "source": [
    "## Quadrature Operators\n",
    "The creation and annihilation operators are not Hermitian and thus we can't meaure them. We can measure the (Hermitian) Quadrature operators however\n",
    "$$\n",
    "\\begin{split}\n",
    "X_1 &= \\frac{a + a^\\dagger}{2} \\\\\n",
    "X_2 &= \\frac{a - a^\\dagger}{2i} \\\\\n",
    "\\end{split}\n",
    "$$\n",
    "with\n",
    "$$ [X_1, X_2] = \\frac{1}{4i}[a + a^\\dagger, a - a^\\dagger] = -\\frac{1}{4i}[a, a^\\dagger] + \\frac{1}{4i}[a^\\dagger, a] = \\frac{i}{2}$$\n",
    "which implies\n",
    "$$ \\Delta X_1 \\Delta X_2 \\ge \\frac{1}{4}$$\n",
    "where \n",
    "$$\\Delta O^2 = \\langle\\psi|O^2|\\psi\\rangle - \\langle\\psi|O|\\psi\\rangle^2$$\n",
    "for an operator $O$ and state $|\\psi\\rangle$. \n",
    "for Fock states $|n\\rangle$ we have\n",
    "$$ \\langle n | X_1 | n \\rangle = \\langle n | X_2 | n \\rangle = 0$$\n",
    "and\n",
    "$$ \\langle n | X_1^2 | n \\rangle = \\langle n | X_2^2 | n \\rangle = \\frac{2n+1}{4}$$\n",
    "and hence\n",
    "$$\\Delta X_1 \\Delta X_2 = \\frac{2n+1}{4}$$\n",
    "which is at the minimum for $n=0$."
   ]
  },
  {
   "cell_type": "markdown",
   "metadata": {},
   "source": [
    "## Coherent States\n",
    "A coherent state, $|\\alpha\\rangle$, is an eigenstate of the annihilation operator\n",
    "$$ a|\\alpha\\rangle = \\alpha|\\alpha\\rangle .$$\n",
    "Writing $|\\alpha\\rangle=\\sum_{n=0}^\\infty c_n|n\\rangle$ we find\n",
    "$$\n",
    "\\begin{split}\n",
    "a \\sum_{n=0}^\\infty c_n|n\\rangle &= \\alpha \\sum_{n=0}^\\infty c_n|n\\rangle \\\\\n",
    "\\sum_{n=1}^\\infty c_n \\sqrt{n} |n-1\\rangle &= \\alpha \\sum_{n=0}^\\infty c_n|n\\rangle \\\\\n",
    "\\sum_{n=0}^\\infty c_{n+1} \\sqrt{n+1} |n\\rangle &= \\alpha \\sum_{n=0}^\\infty c_n|n\\rangle \\\\\n",
    "c_{n+1} \\sqrt{n+1} &= \\alpha c_n \\\\\n",
    "c_{n+1} &= \\frac{\\alpha}{\\sqrt{n+1}} c_n \\\\\n",
    "\\end{split}\n",
    "$$\n",
    "thus $c_{1} = \\frac{\\alpha}{\\sqrt{1}} c_0$ and $c_{2} = \\frac{\\alpha}{\\sqrt{2}} c_1 = \\frac{\\alpha^2}{\\sqrt{2 \\cdot 1}}$ and hence\n",
    "$c_{n} = \\frac{\\alpha^n}{\\sqrt{n!}} c_0$. \n",
    "Thus\n",
    "$$ |\\alpha\\rangle=c_0 \\sum_{n=0}^\\infty \\frac{\\alpha^n}{\\sqrt{n!}} |n\\rangle $$\n",
    "Normalization requires\n",
    "$$|\\langle \\alpha|\\alpha\\rangle|^2 = |c_0|^2 \\sum_{n=0}^\\infty \\frac{|\\alpha|^{2n}}{n!} = |c_0|^2 e^{|\\alpha|^{2}} = 1$$\n",
    "and thus we finally get\n",
    "$$ |\\alpha\\rangle=e^{-\\frac{1}{2}|\\alpha|^{2}} \\sum_{n=0}^\\infty \\frac{\\alpha^n}{\\sqrt{n!}} |n\\rangle .$$"
   ]
  },
  {
   "cell_type": "markdown",
   "metadata": {},
   "source": [
    "## Coherent states are Poissonian\n",
    "The probability of measuring $n$ photons in a coherent state is given by\n",
    "$$ p_n = |\\langle n|\\alpha\\rangle|^2 = e^{-|\\alpha|^{2}} \\frac{|\\alpha|^{2n}}{n!} .$$\n",
    "If we let $\\lambda=|\\alpha|^{2}$ then\n",
    "$$ p_n = e^{-\\lambda} \\frac{\\lambda^n}{n!} $$\n",
    "which is a [Poisson distribution](https://en.wikipedia.org/wiki/Poisson_distribution).\n",
    "The expected number of photons measured is\n",
    "$$\\langle n\\rangle = \\lambda = |\\alpha|^{2}.$$"
   ]
  },
  {
   "cell_type": "markdown",
   "metadata": {},
   "source": [
    "## Coherent States minimize Quadrature\n",
    "We find\n",
    "$$ \\langle\\alpha| X_1|\\alpha\\rangle = \\frac{\\alpha + \\alpha^*}{2} $$\n",
    "and\n",
    "$$ \\langle\\alpha| X_1^2|\\alpha\\rangle = \\frac{\\alpha^2 + (\\alpha^*)^2 + 2|\\alpha|^2+1}{4} $$\n",
    "and hence\n",
    "$$ \\Delta X_1 = \\frac{1}{2}$$\n",
    "this holds also for $X_2$. \n",
    "Thus \n",
    "$$\\Delta X_1 \\Delta X_2 = \\frac{1}{4}.$$"
   ]
  },
  {
   "cell_type": "markdown",
   "metadata": {},
   "source": [
    "## Creating Coherent States\n",
    "A coherent state can be created by applying the displacement operator, $D(\\alpha)$, to the vacuum\n",
    "$$ D(\\alpha)=e^{\\alpha a^\\dagger - \\alpha^* a}$$\n",
    "with \n",
    "$|\\alpha\\rangle = D(\\alpha)|0\\rangle.$"
   ]
  },
  {
   "cell_type": "markdown",
   "metadata": {},
   "source": [
    "## Strawberry Fields implementation"
   ]
  },
  {
   "cell_type": "code",
   "execution_count": 1,
   "metadata": {},
   "outputs": [],
   "source": [
    "import strawberryfields as sf\n",
    "import matplotlib.pyplot as plt"
   ]
  },
  {
   "cell_type": "code",
   "execution_count": 5,
   "metadata": {},
   "outputs": [],
   "source": [
    "prog = sf.Program(1)\n",
    "\n",
    "# Strawberry Fields expects alpha in polar form\n",
    "# alpha = |alpha| e^{i theta}\n",
    "alpha_mod = 2.\n",
    "theta = 0.12\n",
    "with prog.context as q:\n",
    "    sf.ops.Coherent(alpha_mod, theta) | q[0]"
   ]
  },
  {
   "cell_type": "code",
   "execution_count": 6,
   "metadata": {},
   "outputs": [
    {
     "data": {
      "text/plain": [
       "0.991867757203066"
      ]
     },
     "execution_count": 6,
     "metadata": {},
     "output_type": "execute_result"
    }
   ],
   "source": [
    "cutoff_dim = 10\n",
    "eng = sf.Engine('fock', backend_options={\"cutoff_dim\": cutoff_dim})\n",
    "result = eng.run(prog)\n",
    "\n",
    "probs = result.state.all_fock_probs()\n",
    "probs.sum()  # As the fock space is truncated, this will not be equal to 1."
   ]
  },
  {
   "cell_type": "code",
   "execution_count": 8,
   "metadata": {},
   "outputs": [
    {
     "data": {
      "image/png": "[encoded data removed]",
      "text/plain": [
       "<Figure size 640x480 with 1 Axes>"
      ]
     },
     "metadata": {},
     "output_type": "display_data"
    }
   ],
   "source": [
    "plt.bar(range(cutoff_dim), probs)\n",
    "plt.xticks(range(cutoff_dim), [rf\"$|{i}\\rangle$\" for i in range(cutoff_dim)])\n",
    "plt.ylabel(\"Probability\")\n",
    "plt.show()"
   ]
  }
 ],
 "metadata": {
  "kernelspec": {
   "display_name": "base",
   "language": "python",
   "name": "python3"
  },
  "language_info": {
   "codemirror_mode": {
    "name": "ipython",
    "version": 3
   },
   "file_extension": ".py",
   "mimetype": "text/x-python",
   "name": "python",
   "nbconvert_exporter": "python",
   "pygments_lexer": "ipython3",
   "version": "3.12.7"
  }
 },
 "nbformat": 4,
 "nbformat_minor": 2
}
