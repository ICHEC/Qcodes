{
 "cells": [
  {
   "cell_type": "markdown",
   "metadata": {},
   "source": [
    "# Fock and coherent states"
   ]
  },
  {
   "cell_type": "markdown",
   "metadata": {},
   "source": [
    "The Hamiltonian for the quantum harmonic osciallator is\n",
    "$$ H = \\hbar\\omega (a^\\dagger a + 1/2) $$\n",
    "It's eigenstates are Fock states, $|n\\rangle$, where the state $|n\\rangle$ can be though of as containing $n$ photons. We have\n",
    "$$\n",
    "\\begin{split}\n",
    "a|n\\rangle &= \\sqrt{n}|n-1\\rangle \\\\\n",
    "a^\\dagger|n\\rangle &= \\sqrt{n+1}|n+1\\rangle  \\\\\n",
    "\\end{split}\n",
    "$$\n",
    "where $a$ is the annihilation operator and $a^\\dagger$ is the creation operator. Note that\n",
    "$$ a^\\dagger a|n\\rangle = \\sqrt{n} a^\\dagger|n-1\\rangle = n|n\\rangle$$\n",
    "and hence the eigenenergy of the state $|n\\rangle$ is $\\hbar\\omega (n + 1/2)$."
   ]
  },
  {
   "cell_type": "markdown",
   "metadata": {},
   "source": []
  }
 ],
 "metadata": {
  "language_info": {
   "name": "python"
  }
 },
 "nbformat": 4,
 "nbformat_minor": 2
}
