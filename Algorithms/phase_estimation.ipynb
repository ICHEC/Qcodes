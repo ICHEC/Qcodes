{
 "cells": [
  {
   "cell_type": "markdown",
   "metadata": {},
   "source": [
    "# Phase Estimation Algorithm\n",
    "\n",
    "QPE can estimate the phases $\\phi_i$ of a unitary with\n",
    "$$U =\\sum_i e^{2\\pi i \\phi_i} |\\lambda_i\\rangle\\langle \\lambda_i|$$\n",
    "\n",
    "Here we demonstrate this with an implementation in `pennylane`."
   ]
  },
  {
   "cell_type": "code",
   "execution_count": null,
   "metadata": {},
   "outputs": [],
   "source": [
    "import pennylane as qml\n",
    "import numpy as np\n",
    "import matplotlib.pyplot as plt\n",
    "from scipy.linalg import expm"
   ]
  },
  {
   "cell_type": "markdown",
   "metadata": {},
   "source": [
    "## Create a random Unitary"
   ]
  },
  {
   "cell_type": "code",
   "execution_count": null,
   "metadata": {},
   "outputs": [],
   "source": [
    "def create_random_vec(dim):\n",
    "    \"\"\"Create random unit complex vector (|psi>) of shape (dim, 1).\"\"\"\n",
    "    vec = np.random.rand(dim) + 1j * np.random.rand(dim)\n",
    "    return (vec / np.linalg.norm(vec))[:, None]\n",
    "\n",
    "def proj(vec):\n",
    "    \"\"\"Given state |psi>, this returns |psi><psi|.\"\"\"\n",
    "    return vec @ np.conj(vec).T\n",
    "\n",
    "def create_unitary(phases):\n",
    "    \"\"\"Create a 2x2 unitary with given phases. Phases should be a 2-component array.\"\"\"\n",
    "    eigvec_1 = create_random_vec(2)\n",
    "    eigvec_2 = (np.eye(2) - proj(eigvec_1)) @ create_random_vec(2) \n",
    "    eigvec_2 /= np.linalg.norm(eigvec_2)\n",
    "    unitary = np.exp(2*np.pi*1j*phases[0]) * proj(eigvec_1) + np.exp(2*np.pi*1j*phases[1]) * proj(eigvec_2)\n",
    "\n",
    "    # Check it's unitary\n",
    "    assert np.allclose(np.eye(2), np.conj(unitary.T) @ unitary)\n",
    "    return unitary"
   ]
  },
  {
   "cell_type": "markdown",
   "metadata": {},
   "source": [
    "## Create the circuit"
   ]
  },
  {
   "cell_type": "code",
   "execution_count": null,
   "metadata": {},
   "outputs": [],
   "source": [
    "device = qml.device(\"default.qubit\")\n",
    "\n",
    "def create_random_state():\n",
    "    qml.RY(2*np.pi*np.random.rand(), wires=0)\n",
    "    qml.RZ(2*np.pi*np.random.rand(), wires=0)\n",
    "\n",
    "def qpe_circuit(unitary, estimation_wires):\n",
    "    for wire in estimation_wires:\n",
    "        qml.H(wires=wire)\n",
    "\n",
    "    qml.ControlledSequence(qml.QubitUnitary(unitary, 0), control=estimation_wires)\n",
    "    qml.adjoint(qml.QFT)(wires=estimation_wires)\n",
    "\n",
    "@qml.qnode(device)\n",
    "def circuit(unitary, estimation_wires):\n",
    "    create_random_state()\n",
    "    qpe_circuit(unitary, estimation_wires)\n",
    "    return qml.probs(wires=estimation_wires)"
   ]
  },
  {
   "cell_type": "code",
   "execution_count": null,
   "metadata": {},
   "outputs": [],
   "source": [
    "print(qml.draw(circuit)(np.eye(2), [1, 2, 3]))"
   ]
  },
  {
   "cell_type": "markdown",
   "metadata": {},
   "source": [
    "## Run"
   ]
  },
  {
   "cell_type": "code",
   "execution_count": null,
   "metadata": {},
   "outputs": [],
   "source": [
    "def view_results(results, phases, show_every=1):\n",
    "    _, ax = plt.subplots()\n",
    "    xs = np.arange(len(results))\n",
    "    ax.bar(xs, results)\n",
    "    \n",
    "    qbs = int(np.log2(len(results)))\n",
    "    _xticks = [f\"{i/len(xs)}\\n({np.binary_repr(i, qbs)})\" for i in xs]\n",
    "    plt.xticks(xs[::show_every], _xticks[::show_every], rotation=15)\n",
    "\n",
    "    for true_phase in phases:\n",
    "        plt.axvline(x=true_phase * len(results), c='k', ls='dashed')\n",
    "\n",
    "    ax.set_xlabel(\"phase\")\n",
    "    ax.set_ylabel(\"probability\")\n",
    "\n",
    "    plt.show()"
   ]
  },
  {
   "cell_type": "markdown",
   "metadata": {},
   "source": [
    "### Case 1: Phases can be represented exactly"
   ]
  },
  {
   "cell_type": "code",
   "execution_count": null,
   "metadata": {},
   "outputs": [],
   "source": [
    "estimation_wires = range(1, 4)\n",
    "\n",
    "phases = np.array([0.25, 0.875])\n",
    "unitary = create_unitary(phases)\n",
    "results = circuit(unitary, estimation_wires)\n",
    "\n",
    "view_results(results, phases)"
   ]
  },
  {
   "cell_type": "markdown",
   "metadata": {},
   "source": [
    "### Case 2: Phases can't be represented exactly"
   ]
  },
  {
   "cell_type": "code",
   "execution_count": null,
   "metadata": {},
   "outputs": [],
   "source": [
    "estimation_wires = range(1, 6)\n",
    "\n",
    "phases = np.array([0.24108735, 0.81843316])\n",
    "print(\"Phases:\", phases)\n",
    "\n",
    "unitary = create_unitary(phases)\n",
    "results = circuit(unitary, estimation_wires)\n",
    "\n",
    "view_results(results, phases, 4)"
   ]
  },
  {
   "cell_type": "markdown",
   "metadata": {},
   "source": [
    "## Phase estimation of Hamiltonian\n",
    "$$H =\\sum_i  \\lambda_i |\\lambda_i\\rangle\\langle \\lambda_i|$$\n",
    "$$U_T = e^{iHT} =\\sum_i  e^{i\\lambda_i T} |\\lambda_i\\rangle\\langle \\lambda_i|$$\n",
    "\n",
    "Thus\n",
    "$$ \\lambda_i = \\frac{2\\pi \\phi_i}{T} $$"
   ]
  },
  {
   "cell_type": "code",
   "execution_count": null,
   "metadata": {},
   "outputs": [],
   "source": [
    "hamiltonian = np.random.uniform(-1, 1, (2, 2)) + 1j * np.random.uniform(-1, 1, (2, 2))\n",
    "hamiltonian = 0.5 * (hamiltonian + np.conj(hamiltonian.T))\n",
    "eigs = np.real(np.linalg.eigvals(hamiltonian))\n",
    "eigs"
   ]
  },
  {
   "cell_type": "code",
   "execution_count": null,
   "metadata": {},
   "outputs": [],
   "source": [
    "duration = 1.\n",
    "unitary = expm(hamiltonian * 1j * duration)"
   ]
  },
  {
   "cell_type": "code",
   "execution_count": null,
   "metadata": {},
   "outputs": [],
   "source": [
    "phases = eigs * duration / (2 * np.pi)\n",
    "for i in range(2):\n",
    "    if phases[i] < 0.:\n",
    "        phases[i] = 1 + phases[i]\n",
    "phases"
   ]
  },
  {
   "cell_type": "code",
   "execution_count": null,
   "metadata": {},
   "outputs": [],
   "source": [
    "estimation_wires = range(1, 6)\n",
    "results = circuit(unitary, estimation_wires)\n",
    "\n",
    "view_results(results, phases, 4)"
   ]
  }
 ],
 "metadata": {
  "kernelspec": {
   "display_name": "base",
   "language": "python",
   "name": "python3"
  },
  "language_info": {
   "codemirror_mode": {
    "name": "ipython",
    "version": 3
   },
   "file_extension": ".py",
   "mimetype": "text/x-python",
   "name": "python",
   "nbconvert_exporter": "python",
   "pygments_lexer": "ipython3",
   "version": "3.12.7"
  }
 },
 "nbformat": 4,
 "nbformat_minor": 4
}
